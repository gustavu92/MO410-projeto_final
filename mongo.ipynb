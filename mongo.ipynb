{
 "cells": [
  {
   "cell_type": "markdown",
   "metadata": {},
   "source": [
    "# API para Linha IMX"
   ]
  },
  {
   "cell_type": "code",
   "execution_count": null,
   "metadata": {},
   "outputs": [],
   "source": [
    "def parse_aux(tuples):\n",
    "    dict_file = {}\n",
    "    for t in tuples:\n",
    "        m = re.match(r'^#(.*)', t[0])\n",
    "        if m:\n",
    "            key = m[1].lower()\n",
    "        else:\n",
    "            key = t[0].lower()\n",
    "        if re.search(r'path|file|start time|finish time', key):\n",
    "            value = t[1]\n",
    "        else:\n",
    "            numbers = re.findall(r'-?\\d+\\.?\\d*', t[1])\n",
    "            if numbers == []:\n",
    "                value = t[1]\n",
    "            else:\n",
    "                numbers = [float(s) for s in numbers]\n",
    "            if len(numbers) == 1:\n",
    "                value = numbers[0]\n",
    "            elif len(numbers) > 1:\n",
    "                value = {'x': numbers[0], 'y': numbers[1]}\n",
    "        dict_file[key] = value\n",
    "    return dict_file"
   ]
  },
  {
   "cell_type": "code",
   "execution_count": null,
   "metadata": {},
   "outputs": [],
   "source": [
    "def parser_sample(path):\n",
    "    with open(path) as file:\n",
    "        file_string = file.read()\n",
    "    list_s = re.split('\\n', file_string)\n",
    "    \n",
    "    i = 0\n",
    "    regex = re.compile(r'SAMPLE MOTORS')\n",
    "    for l in list_s:\n",
    "        if regex.search(l):\n",
    "            idx_motor_s = i\n",
    "            break\n",
    "        i += 1\n",
    "    i = 0\n",
    "    for l in list_s[idx_motor_s:]:\n",
    "        if l == '':\n",
    "            idx_motor_f = i\n",
    "            break\n",
    "        i += 1\n",
    "\n",
    "    list_motor = list_s[idx_motor_s:idx_motor_s + idx_motor_f]\n",
    "    list_sample = list_s[0:idx_motor_s]\n",
    "    list_sample.extend(list_s[idx_motor_s + idx_motor_f:])\n",
    "\n",
    "    regex = re.compile(r'(.*) [=|-] (.*).*')\n",
    "    tuples_sample = [(m.group(1), m.group(2)) for l in list_sample for m in [regex.search(l)] if m]\n",
    "    tuples_motor = [(m.group(1), m.group(2)) for l in list_motor for m in [regex.search(l)] if m]\n",
    "    \n",
    "    dict_file = parse_aux(tuples_sample)\n",
    "    dict_motor = parse_aux(tuples_motor)\n",
    "    dict_file['motor positions'] = dict_motor\n",
    "    \n",
    "    return dict_file"
   ]
  },
  {
   "cell_type": "code",
   "execution_count": null,
   "metadata": {},
   "outputs": [],
   "source": [
    "def parser_RAfT(path):\n",
    "    with open(path) as file:\n",
    "        file_string = file.read()\n",
    "    list_s = re.split('\\n', file_string)\n",
    "    regex = re.compile(r'(.*) = (.*).*')\n",
    "    tuples_sample = [(m.group(1), m.group(2)) for l in list_s for m in [regex.search(l)] if m]\n",
    "    \n",
    "    return parse_aux(tuples_sample)"
   ]
  },
  {
   "cell_type": "code",
   "execution_count": null,
   "metadata": {},
   "outputs": [],
   "source": [
    "def add_proposal(proposal_id, collection, **kargs):\n",
    "    document = {'proposta': proposal_id}\n",
    "    document.update(kargs)\n",
    "    collection.insert_one(document)"
   ]
  },
  {
   "cell_type": "code",
   "execution_count": null,
   "metadata": {},
   "outputs": [],
   "source": [
    "def add_experiment(proposal_id, collection, **kwargs):\n",
    "    collection.update_one({'proposta': proposal_id}, { '$push': { 'experimentos': kwargs } } )"
   ]
  },
  {
   "cell_type": "code",
   "execution_count": null,
   "metadata": {},
   "outputs": [],
   "source": [
    "def choose_experiment(experiments):\n",
    "    if len(experiments) > 1:\n",
    "        n = 1\n",
    "        print('There are more than one experiment in this proposal.') \n",
    "        for experiment in experiments:\n",
    "            print('Experiment ', n, ',')\n",
    "            for key, value in experiment.items():\n",
    "                if key != 'amostras':\n",
    "                    print('\\t', key, ' : ', value)\n",
    "            n += 1\n",
    "        return str(int(input('Please choose one experiment ')) - 1)\n",
    "    else:\n",
    "        return '0'"
   ]
  },
  {
   "cell_type": "code",
   "execution_count": null,
   "metadata": {},
   "outputs": [],
   "source": [
    "def choose_sample(samples):\n",
    "    if len(samples) > 1:\n",
    "        n = 1\n",
    "        print('There are more than one sample in this experiment.') \n",
    "        for sample in samples:\n",
    "            print('Sample ', n, ',')\n",
    "            for key, value in sample.items():\n",
    "                if key != 'medidas':\n",
    "                    print('\\t', key, ' : ', value)\n",
    "            n += 1\n",
    "        return str(int(input('Please choose one sample ')) - 1)\n",
    "    else:\n",
    "        return '0'"
   ]
  },
  {
   "cell_type": "code",
   "execution_count": null,
   "metadata": {},
   "outputs": [],
   "source": [
    "def add_sample(proposal_id, collection, **kwargs):\n",
    "    proposal = collection.find({'proposta': proposal_id})[0]\n",
    "    idx = choose_experiment(proposal['experimentos'])\n",
    "                    \n",
    "    key = 'experimentos.' + idx + '.amostras'\n",
    "    collection.update_one({'proposta': proposal_id}, { '$push': { key: kwargs } } )"
   ]
  },
  {
   "cell_type": "code",
   "execution_count": null,
   "metadata": {},
   "outputs": [],
   "source": [
    "def add_measurements(proposal_id, collection, sample_path, RAfT_path):\n",
    "    proposal = collection.find({'proposta': proposal_id})[0]\n",
    "    idx_exp = choose_experiment(proposal['experimentos'])\n",
    "    idx_sam = choose_sample(proposal['experimentos'][int(idx_exp)]['amostras'])\n",
    "    \n",
    "    args = parser_sample(sample_path)\n",
    "    args['reconstructions'] = [parser_RAfT(RAfT_path)]\n",
    "    \n",
    "    key = 'experimentos.' + idx_exp + '.amostras.' + idx_sam + '.medidas'\n",
    "    collection.update_one({'proposta': proposal_id}, { '$push': { key: args } } )"
   ]
  },
  {
   "cell_type": "code",
   "execution_count": null,
   "metadata": {},
   "outputs": [],
   "source": [
    "def search_doc(doc, level_s, level_r, key, value):\n",
    "    if level_s == 'experimento':\n",
    "        if level_r == 'experimento':\n",
    "            return [exp for exp in doc['experimentos'] if exp[key] == value]\n",
    "        elif level_r == 'amostra':\n",
    "            return [sample for exp in doc['experimentos'] if exp[key] == value for sample in exp['amostras']]\n",
    "        elif level_r == 'medida':\n",
    "            return [m for exp in doc['experimentos'] if exp[key] == value for sample in exp['amostras'] for m in sample['medidas']]\n",
    "        \n",
    "    elif level_s == 'amostra':\n",
    "        if level_r == 'experimento':\n",
    "            return [exp for exp in doc['experimentos']]\n",
    "        elif level_r == 'amostra':\n",
    "            return [sample for exp in doc['experimentos'] for sample in exp['amostras'] if sample[key] == value]\n",
    "        elif level_r == 'medida':\n",
    "            return [m for exp in doc['experimentos'] for sample in exp['amostras'] if sample[key] == value for m in sample['medidas']]\n",
    "        \n",
    "    elif level_s == 'medida':\n",
    "        if level_r == 'experimento':\n",
    "            return [exp for exp in doc['experimentos']]\n",
    "        elif level_r == 'amostra':\n",
    "            return [sample for exp in doc['experimentos'] for sample in exp['amostras']]\n",
    "        elif level_r == 'medida':\n",
    "            return [m for exp in doc['experimentos'] for sample in exp['amostras'] for m in sample['medidas'] if m[key] == value]"
   ]
  }
 ],
 "metadata": {
  "celltoolbar": "Slideshow",
  "kernelspec": {
   "display_name": "Python 3",
   "language": "python",
   "name": "python3"
  },
  "language_info": {
   "codemirror_mode": {
    "name": "ipython",
    "version": 3
   },
   "file_extension": ".py",
   "mimetype": "text/x-python",
   "name": "python",
   "nbconvert_exporter": "python",
   "pygments_lexer": "ipython3",
   "version": "3.7.1"
  }
 },
 "nbformat": 4,
 "nbformat_minor": 2
}
