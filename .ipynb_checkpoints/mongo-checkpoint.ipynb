{
 "cells": [
  {
   "cell_type": "code",
   "execution_count": 39,
   "metadata": {},
   "outputs": [
    {
     "data": {
      "text/plain": [
       "Collection(Database(MongoClient(host=['localhost:27017'], document_class=dict, tz_aware=False, connect=True), 'imxDatabase'), 'proposals')"
      ]
     },
     "execution_count": 39,
     "metadata": {},
     "output_type": "execute_result"
    }
   ],
   "source": [
    "from pymongo import MongoClient\n",
    "\n",
    "client = MongoClient('localhost:27017')\n",
    "db = client.imxDatabase\n",
    "db.drop_collection('proposals')\n",
    "db.create_collection('proposals',\n",
    "                     validator={\n",
    "                         \"$jsonSchema\": {\n",
    "                             \"bsonType\": \"object\",\n",
    "                             \"required\": [ \"proposta\", \"experimentos\" ],\n",
    "                             \"properties\": {\n",
    "                                 \"proposta\": {\n",
    "                                     \"bsonType\": \"int\",\n",
    "                                     \"description\": \"Numero para controle interno.\"\n",
    "                                 },\n",
    "                                 \"experimentos\": {\n",
    "                                     \"bsonType\": \"array\",\n",
    "                                     \"items\": {\n",
    "                                         \"bsonType\": \"object\",\n",
    "                                         \"required\": [ \"nome\", \"descricao\", \"amostras\"],\n",
    "                                         \"properties\": {\n",
    "                                            \"nome\": {\n",
    "                                               \"bsonType\": \"string\",\n",
    "                                               \"description\": \"Nome resumido do experimento\"\n",
    "                                            },\n",
    "                                             \"descricao\": {\n",
    "                                                 \"bsonType\": \"string\",\n",
    "                                                 \"description\": \"Detalhamento do experimento\"\n",
    "                                             },\n",
    "                                             \"medidas\": {\n",
    "                                                 \"bsonType\": \"array\",\n",
    "                                                 \"description\": \"Medidas pertinentes ao experimento\"\n",
    "                                             }\n",
    "                                         }\n",
    "                                     }\n",
    "                                 }\n",
    "                             }\n",
    "                         }\n",
    "                     })"
   ]
  },
  {
   "cell_type": "code",
   "execution_count": 40,
   "metadata": {},
   "outputs": [
    {
     "data": {
      "text/plain": [
       "<pymongo.results.InsertOneResult at 0x7f559774f9c8>"
      ]
     },
     "execution_count": 40,
     "metadata": {},
     "output_type": "execute_result"
    }
   ],
   "source": [
    "import json\n",
    "from pprint import pprint\n",
    "\n",
    "with open('IMX.json') as file:\n",
    "    bone_proposal = json.load(file)\n",
    "\n",
    "db.proposals.insert_one(bone_proposal)"
   ]
  }
 ],
 "metadata": {
  "kernelspec": {
   "display_name": "Python 3",
   "language": "python",
   "name": "python3"
  },
  "language_info": {
   "codemirror_mode": {
    "name": "ipython",
    "version": 3
   },
   "file_extension": ".py",
   "mimetype": "text/x-python",
   "name": "python",
   "nbconvert_exporter": "python",
   "pygments_lexer": "ipython3",
   "version": "3.7.1"
  }
 },
 "nbformat": 4,
 "nbformat_minor": 2
}
