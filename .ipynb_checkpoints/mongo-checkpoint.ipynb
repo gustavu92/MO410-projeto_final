{
 "cells": [
  {
   "cell_type": "code",
   "execution_count": 119,
   "metadata": {},
   "outputs": [],
   "source": [
    "from pymongo import MongoClient\n",
    "\n",
    "client = MongoClient('localhost:27017')\n",
    "db = client.imxDatabase\n",
    "db.drop_collection('proposals')\n",
    "db.create_collection('proposals',\n",
    "                     validator={\n",
    "                         \"$jsonSchema\": {\n",
    "                             \"bsonType\": \"object\",\n",
    "                             \"required\": [ \"proposta\" ],\n",
    "                             \"properties\": {\n",
    "                                 \"proposta\": {\n",
    "                                     \"bsonType\": \"int\",\n",
    "                                     \"description\": \"Numero para controle interno, vinculado ao BD relacional.\"\n",
    "                                 }\n",
    "                             }\n",
    "                         }\n",
    "                     })\n",
    "proposals = db.proposals"
   ]
  },
  {
   "cell_type": "code",
   "execution_count": 120,
   "metadata": {},
   "outputs": [],
   "source": [
    "import re"
   ]
  },
  {
   "cell_type": "code",
   "execution_count": 121,
   "metadata": {},
   "outputs": [],
   "source": [
    "def parser_sample_RAfT(path):\n",
    "    with open(path) as file:\n",
    "        file_string = file.read()\n",
    "    list_s = re.split('\\n', file_string)\n",
    "    regex = re.compile(r'(.*) = (.*).*')\n",
    "    tuples_sample = [(m.group(1), m.group(2)) for l in list_s for m in [regex.search(l)] if m]\n",
    "    \n",
    "    dict_file = {}\n",
    "    for t in tuples_sample:\n",
    "        m = re.match(r'^#(.*)', t[0])\n",
    "        if m:\n",
    "            key = m[1].lower()\n",
    "        else:\n",
    "            key = t[0].lower()\n",
    "        if re.search(r'path|file', key):\n",
    "            value = t[1]\n",
    "        else:\n",
    "            numbers = re.findall(r'-?\\d+\\.?\\d*', t[1])\n",
    "            if numbers == []:\n",
    "                value = t[1]\n",
    "            else:\n",
    "                numbers = [float(s) for s in numbers]\n",
    "            if len(numbers) == 1:\n",
    "                value = numbers[0]\n",
    "            elif len(numbers) > 1:\n",
    "                value = {'x': numbers[0], 'y': numbers[1]}\n",
    "        dict_file[key] = value\n",
    "    return dict_file"
   ]
  },
  {
   "cell_type": "code",
   "execution_count": 122,
   "metadata": {},
   "outputs": [],
   "source": [
    "def create_proposal(proposal_id, collection):\n",
    "    collection.insert_one({'proposta': proposal_id})"
   ]
  },
  {
   "cell_type": "code",
   "execution_count": 123,
   "metadata": {},
   "outputs": [],
   "source": [
    "def add_experiment(proposal_id, collection, **kwargs):\n",
    "    collection.update_one({'proposta': proposal_id}, { '$push': { 'experimentos': kwargs } } )"
   ]
  },
  {
   "cell_type": "code",
   "execution_count": 128,
   "metadata": {},
   "outputs": [],
   "source": [
    "def choose_experiment(experiments):\n",
    "    if len(experiments) > 1:\n",
    "        n = 1\n",
    "        print('There are more than one experiment in this proposal.') \n",
    "        for experiment in experiments:\n",
    "            print('Experiment ', n, ',')\n",
    "            for key, value in experiment.items():\n",
    "                if key != 'amostras':\n",
    "                    print('\\t', key, ' : ', value)\n",
    "            n += 1\n",
    "        return input('Please choose one to add the sample ')\n",
    "    else:\n",
    "        return '0'"
   ]
  },
  {
   "cell_type": "code",
   "execution_count": 129,
   "metadata": {},
   "outputs": [],
   "source": [
    "def choose_sample(samples):\n",
    "    if len(samples) > 1:\n",
    "        n = 1\n",
    "        print('There are more than one sample in this experiment.') \n",
    "        for sample in samples:\n",
    "            print('Sample ', n, ',')\n",
    "            for key, value in samples.items():\n",
    "                if key != 'medidas':\n",
    "                    print('\\t', key, ' : ', value)\n",
    "            n += 1\n",
    "        return input('Please choose one to add the measurement')\n",
    "    else:\n",
    "        return '0'"
   ]
  },
  {
   "cell_type": "code",
   "execution_count": 130,
   "metadata": {},
   "outputs": [],
   "source": [
    "def add_sample(proposal_id, collection, **kwargs):\n",
    "    proposal = collection.find({'proposta': proposal_id})[0]\n",
    "    idx = choose_experiment(proposal['experimentos'])\n",
    "                    \n",
    "    sample_to_add = 'experimentos.' + idx + '.amostras'\n",
    "    collection.update_one({'proposta': proposal_id}, { '$push': { sample_to_add: kwargs } } )"
   ]
  },
  {
   "cell_type": "code",
   "execution_count": null,
   "metadata": {},
   "outputs": [],
   "source": [
    "def add_measurements(proposal_id, collection, sample_path, RAfT_path):\n",
    "    proposal = collection.find({'proposta': proposal_id})[0]\n",
    "    num_experiments = len(proposal['experimentos'][])\n",
    "                    \n",
    "    sample_to_add = 'experimentos.' + idx + '.amostras'\n",
    "    collection.update_one({'proposta': proposal_id}, { '$push': { sample_to_add: kwargs } } )    "
   ]
  },
  {
   "cell_type": "code",
   "execution_count": 131,
   "metadata": {},
   "outputs": [],
   "source": [
    "create_proposal(20180001, proposals)"
   ]
  },
  {
   "cell_type": "code",
   "execution_count": 132,
   "metadata": {},
   "outputs": [],
   "source": [
    "args = {\n",
    "    \"nome\": \"Análise da calcificação em ossos\",\n",
    "    \"descricao\": \"Analisar a qualidade da calcificação em ossos tratados com esferas de cálcio de diferentes tamanhos de poros.\"\n",
    "}\n",
    "\n",
    "\n",
    "add_experiment(20180001, proposals, **args)"
   ]
  },
  {
   "cell_type": "code",
   "execution_count": 95,
   "metadata": {},
   "outputs": [
    {
     "name": "stdout",
     "output_type": "stream",
     "text": [
      "nome\n",
      "descricao\n"
     ]
    }
   ],
   "source": [
    "import pprint\n",
    "for e in proposals.find({'proposta': 20180001})[0]['experimentos']:\n",
    "    for key, value in e.items():\n",
    "        print(key)"
   ]
  },
  {
   "cell_type": "code",
   "execution_count": 96,
   "metadata": {},
   "outputs": [
    {
     "name": "stdout",
     "output_type": "stream",
     "text": [
      "isert something1\n"
     ]
    }
   ],
   "source": [
    "a = input('isert something')"
   ]
  },
  {
   "cell_type": "code",
   "execution_count": 133,
   "metadata": {},
   "outputs": [],
   "source": [
    "args = {\n",
    "    \"nome\":\"Osso tratado com esferas contendo poros de 9um.\",\n",
    "    \"descricao\":\"Osso tratado após a inserção de esferas de cálcio com poros de 9um e com 7 meses de tratamento.\",\n",
    "    \"contrastante\":\"Iodo\",\n",
    "    \"Tempo de Cura\":\"20 horas\",\n",
    "    \"Aplicação\":\"Absorção\"\n",
    "}\n",
    "add_sample(20180001, proposals, **args)"
   ]
  },
  {
   "cell_type": "code",
   "execution_count": 106,
   "metadata": {},
   "outputs": [
    {
     "data": {
      "text/plain": [
       "<pymongo.results.UpdateResult at 0x7f9cb4642d08>"
      ]
     },
     "execution_count": 106,
     "metadata": {},
     "output_type": "execute_result"
    }
   ],
   "source": [
    "proposals.update_one({'proposta': 20180001}, { '$push': { 'experimentos.0.amostras': {'a':1} } } )"
   ]
  },
  {
   "cell_type": "code",
   "execution_count": 134,
   "metadata": {},
   "outputs": [
    {
     "name": "stdout",
     "output_type": "stream",
     "text": [
      "{'_id': ObjectId('5c072a24b0351606ee7957ef'),\n",
      " 'experimentos': [{'amostras': [{'Aplicação': 'Absorção',\n",
      "                                 'Tempo de Cura': '20 horas',\n",
      "                                 'contrastante': 'Iodo',\n",
      "                                 'descricao': 'Osso tratado após a inserção de '\n",
      "                                              'esferas de cálcio com poros de '\n",
      "                                              '9um e com 7 meses de '\n",
      "                                              'tratamento.',\n",
      "                                 'nome': 'Osso tratado com esferas contendo '\n",
      "                                         'poros de 9um.'}],\n",
      "                   'descricao': 'Analisar a qualidade da calcificação em ossos '\n",
      "                                'tratados com esferas de cálcio de diferentes '\n",
      "                                'tamanhos de poros.',\n",
      "                   'nome': 'Análise da calcificação em ossos'}],\n",
      " 'proposta': 20180001}\n"
     ]
    }
   ],
   "source": [
    "pprint.pprint(proposals.find_one())"
   ]
  },
  {
   "cell_type": "code",
   "execution_count": null,
   "metadata": {},
   "outputs": [],
   "source": []
  }
 ],
 "metadata": {
  "kernelspec": {
   "display_name": "Python 3",
   "language": "python",
   "name": "python3"
  },
  "language_info": {
   "codemirror_mode": {
    "name": "ipython",
    "version": 3
   },
   "file_extension": ".py",
   "mimetype": "text/x-python",
   "name": "python",
   "nbconvert_exporter": "python",
   "pygments_lexer": "ipython3",
   "version": "3.7.1"
  }
 },
 "nbformat": 4,
 "nbformat_minor": 2
}
