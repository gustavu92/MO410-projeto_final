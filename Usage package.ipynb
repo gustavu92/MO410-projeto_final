{
 "cells": [
  {
   "cell_type": "code",
   "execution_count": 1,
   "metadata": {},
   "outputs": [],
   "source": [
    "import pprint\n",
    "from pymongo import MongoClient\n",
    "\n",
    "client = MongoClient('localhost:27017')\n",
    "db = client.imxDatabase\n",
    "db.drop_collection('proposals')\n",
    "db.create_collection('proposals',\n",
    "                     validator={\n",
    "                         \"$jsonSchema\": {\n",
    "                             \"bsonType\": \"object\",\n",
    "                             \"required\": [ \"proposta\" ],\n",
    "                             \"properties\": {\n",
    "                                 \"proposta\": {\n",
    "                                     \"bsonType\": \"int\",\n",
    "                                     \"description\": \"Numero para controle interno, vinculado ao BD relacional.\"\n",
    "                                 }\n",
    "                             }\n",
    "                         }\n",
    "                     })\n",
    "proposals = db.proposals"
   ]
  },
  {
   "cell_type": "code",
   "execution_count": 2,
   "metadata": {},
   "outputs": [],
   "source": [
    "import mongoimx # First install package using < pip install --user . > in mongoimx/ directory"
   ]
  },
  {
   "cell_type": "code",
   "execution_count": 5,
   "metadata": {},
   "outputs": [],
   "source": [
    "mongoimx.add_proposal(20180001, proposals)"
   ]
  },
  {
   "cell_type": "code",
   "execution_count": 6,
   "metadata": {},
   "outputs": [],
   "source": [
    "args = {\n",
    "    \"nome\": \"Análise da calcificação em ossos\",\n",
    "    \"descricao\": \"Analisar a qualidade da calcificação em ossos tratados com esferas de cálcio de diferentes tamanhos de poros.\"\n",
    "}\n",
    "\n",
    "\n",
    "mongoimx.add_experiment(20180001, proposals, **args)"
   ]
  },
  {
   "cell_type": "code",
   "execution_count": 7,
   "metadata": {},
   "outputs": [],
   "source": [
    "args = {\n",
    "    \"nome\":\"Osso tratado com esferas contendo poros de 9um.\",\n",
    "    \"descricao\":\"Osso tratado após a inserção de esferas de cálcio com poros de 9um e com 7 meses de tratamento.\",\n",
    "    \"contrastante\":\"Iodo\",\n",
    "    \"Tempo de Cura\":\"20 horas\",\n",
    "    \"Aplicação\":\"Absorção\"\n",
    "}\n",
    "mongoimx.add_sample(20180001, proposals, **args)"
   ]
  },
  {
   "cell_type": "code",
   "execution_count": 8,
   "metadata": {},
   "outputs": [],
   "source": [
    "mongoimx.add_measurements(RAfT_path='../RAfT.par',sample_path='../sample.txt', collection=proposals, proposal_id=20180001)"
   ]
  },
  {
   "cell_type": "code",
   "execution_count": 9,
   "metadata": {},
   "outputs": [
    {
     "name": "stdout",
     "output_type": "stream",
     "text": [
      "{'_id': ObjectId('5c07c9c8b035161663231241'),\n",
      " 'experimentos': [{'amostras': [{'Aplicação': 'Absorção',\n",
      "                                 'Tempo de Cura': '20 horas',\n",
      "                                 'contrastante': 'Iodo',\n",
      "                                 'descricao': 'Osso tratado após a inserção de '\n",
      "                                              'esferas de cálcio com poros de '\n",
      "                                              '9um e com 7 meses de '\n",
      "                                              'tratamento.',\n",
      "                                 'medidas': [{'angle range': 180.0,\n",
      "                                              'delay time': 0.0,\n",
      "                                              'depth of focus': -5.0,\n",
      "                                              'detector position': 274.0,\n",
      "                                              'detector rotation': -1.36332,\n",
      "                                              'energy': {'x': 4.0, 'y': 14.0},\n",
      "                                              'exposure time': 150.0,\n",
      "                                              'field of view (horizontal x vertical)': {'x': 1.64,\n",
      "                                                                                        'y': 1.64},\n",
      "                                              'final storage ring current': 218.304,\n",
      "                                              'finish time': '2017-07-25 '\n",
      "                                                             '09:58:20.404793',\n",
      "                                              'initial storage ring current': 221.95,\n",
      "                                              'motor positions': {'sample focus': 0.02401,\n",
      "                                                                  'sample mts1': -0.9346,\n",
      "                                                                  'sample mts2': -0.1804,\n",
      "                                                                  'sample pitch': -0.02501,\n",
      "                                                                  'sample roll': -0.05006,\n",
      "                                                                  'sample x': 0.57999,\n",
      "                                                                  'sample y': 20.0},\n",
      "                                              'number of projections': 1001.0,\n",
      "                                              'objective': 10.0,\n",
      "                                              'pixel size': {'x': 0.82,\n",
      "                                                             'y': 0.82},\n",
      "                                              'reconstructions': [{'angle range': 180.0,\n",
      "                                                                   'background_dataset_name': '\"darks\"',\n",
      "                                                                   'background_file_name': 'tomo_dark_before.h5',\n",
      "                                                                   'detector position': 274.0,\n",
      "                                                                   'end_slice': 1024.0,\n",
      "                                                                   'exposure time': 150.0,\n",
      "                                                                   'ff_dataset_name': '\"flats\"',\n",
      "                                                                   'file_name': 'tomo.h5',\n",
      "                                                                   'filter_composition': 2.0,\n",
      "                                                                   'flatfield_file_name': 'tomo_flat_before.h5',\n",
      "                                                                   'image_format': 16.0,\n",
      "                                                                   'image_pixel_size_1': 0.82,\n",
      "                                                                   'image_pixel_size_2': 0.82,\n",
      "                                                                   'image_size': 2048.0,\n",
      "                                                                   'num_first_image': 0.0,\n",
      "                                                                   'num_image_1': 2048.0,\n",
      "                                                                   'num_image_2': 2048.0,\n",
      "                                                                   'num_last_image': 1000.0,\n",
      "                                                                   'number of projections': 1001.0,\n",
      "                                                                   'number_of_blocks': 2.0,\n",
      "                                                                   'regularization': 0.0,\n",
      "                                                                   'rotation_shift': 0.0,\n",
      "                                                                   'sample path': '/IMX_ddnStorage/20170002/Teste_Experiment/Palito_10x/',\n",
      "                                                                   'start_slice': 1024.0,\n",
      "                                                                   'threshold': 20.0,\n",
      "                                                                   'zpad': 0.0}],\n",
      "                                              'start time': '2017-07-25 '\n",
      "                                                            '09:45:10.188309',\n",
      "                                              'tomography method': 'Point-to-point'}],\n",
      "                                 'nome': 'Osso tratado com esferas contendo '\n",
      "                                         'poros de 9um.'}],\n",
      "                   'descricao': 'Analisar a qualidade da calcificação em ossos '\n",
      "                                'tratados com esferas de cálcio de diferentes '\n",
      "                                'tamanhos de poros.',\n",
      "                   'nome': 'Análise da calcificação em ossos'}],\n",
      " 'proposta': 20180001}\n"
     ]
    }
   ],
   "source": [
    "pprint.pprint(proposals.find_one())"
   ]
  }
 ],
 "metadata": {
  "kernelspec": {
   "display_name": "Python 3",
   "language": "python",
   "name": "python3"
  },
  "language_info": {
   "codemirror_mode": {
    "name": "ipython",
    "version": 3
   },
   "file_extension": ".py",
   "mimetype": "text/x-python",
   "name": "python",
   "nbconvert_exporter": "python",
   "pygments_lexer": "ipython3",
   "version": "3.7.1"
  }
 },
 "nbformat": 4,
 "nbformat_minor": 2
}
